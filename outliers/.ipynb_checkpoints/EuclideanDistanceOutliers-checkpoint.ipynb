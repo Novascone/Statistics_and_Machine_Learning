{
 "cells": [
  {
   "cell_type": "code",
   "execution_count": 1,
   "id": "6b37ea4a",
   "metadata": {},
   "outputs": [],
   "source": [
    "import numpy as np\n",
    "import matplotlib.pyplot as plt"
   ]
  },
  {
   "cell_type": "code",
   "execution_count": 5,
   "id": "3dd6e745",
   "metadata": {},
   "outputs": [
    {
     "ename": "IndexError",
     "evalue": "list index out of range",
     "output_type": "error",
     "traceback": [
      "\u001b[0;31m---------------------------------------------------------------------------\u001b[0m",
      "\u001b[0;31mIndexError\u001b[0m                                Traceback (most recent call last)",
      "Cell \u001b[0;32mIn[5], line 12\u001b[0m\n\u001b[1;32m     10\u001b[0m ds \u001b[38;5;241m=\u001b[39m np\u001b[38;5;241m.\u001b[39mzeros(N)\n\u001b[1;32m     11\u001b[0m \u001b[38;5;28;01mfor\u001b[39;00m i \u001b[38;5;129;01min\u001b[39;00m \u001b[38;5;28mrange\u001b[39m(N\u001b[38;5;241m-\u001b[39m\u001b[38;5;241m1\u001b[39m):\n\u001b[0;32m---> 12\u001b[0m     ds[i] \u001b[38;5;241m=\u001b[39m np\u001b[38;5;241m.\u001b[39msqrt( (d1[i]\u001b[38;5;241m-\u001b[39mdatamean[\u001b[38;5;241m0\u001b[39m])\u001b[38;5;241m*\u001b[39m\u001b[38;5;241m*\u001b[39m\u001b[38;5;241m2\u001b[39m \u001b[38;5;241m+\u001b[39m (d2[i]\u001b[38;5;241m-\u001b[39mdatamean[i])\u001b[38;5;241m*\u001b[39m\u001b[38;5;241m*\u001b[39m\u001b[38;5;241m2\u001b[39m )\n\u001b[1;32m     14\u001b[0m \u001b[38;5;66;03m# convert to z\u001b[39;00m\n\u001b[1;32m     15\u001b[0m ds \u001b[38;5;241m=\u001b[39m (ds\u001b[38;5;241m-\u001b[39mnp\u001b[38;5;241m.\u001b[39mmean(ds)) \u001b[38;5;241m/\u001b[39m np\u001b[38;5;241m.\u001b[39mstd(ds)\n",
      "\u001b[0;31mIndexError\u001b[0m: list index out of range"
     ]
    }
   ],
   "source": [
    "# data \n",
    "\n",
    "N = 40\n",
    "\n",
    "d1 = np.exp(-abs(np.random.randn(N)*3))\n",
    "d2 = np.exp(-abs(np.random.randn(N)*5))\n",
    "datamean = [ np.mean(d1), np.mean(d2) ]\n",
    "\n",
    "# compute distance of each point to the mean\n",
    "ds = np.zeros(N)\n",
    "for i in range(N):\n",
    "    ds[i] = np.sqrt( (d1[i]-datamean[0])**2 + (d2[i]-datamean[1])**2 )\n",
    "    \n",
    "# convert to z\n",
    "ds = (ds-np.mean(ds)) / np.std(ds)\n",
    "\n",
    "# plot\n",
    "fig,ax = plt.subplots(1,2,figsize=(8,6))\n",
    "\n",
    "ax[0].plot(d1,d2,'ko',markerfacecolor='k')\n",
    "ax[0].set_xticks([])\n",
    "ax[0].set_yticks([])\n",
    "ax[0].set_xlabel('variable x')\n",
    "ax[0].set_ylabel('Variable y')\n",
    "\n",
    "# plot the multivariate mean\n",
    "ax[0].plot(datamean[0],datamean[1],'kp',markerfacecolor='g',markersize=15)\n",
    "\n",
    "# plot distances\n",
    "ax[1].plot(ds,'ko', markerfacecolor=[.7, .5, .3], markersize=12)\n",
    "ax[1].set_xlabel('Data index')\n",
    "ax[1].set_ylabel('Z distance')"
   ]
  },
  {
   "cell_type": "code",
   "execution_count": null,
   "id": "9b4193d3",
   "metadata": {},
   "outputs": [],
   "source": []
  }
 ],
 "metadata": {
  "kernelspec": {
   "display_name": "Python 3 (ipykernel)",
   "language": "python",
   "name": "python3"
  },
  "language_info": {
   "codemirror_mode": {
    "name": "ipython",
    "version": 3
   },
   "file_extension": ".py",
   "mimetype": "text/x-python",
   "name": "python",
   "nbconvert_exporter": "python",
   "pygments_lexer": "ipython3",
   "version": "3.11.3"
  }
 },
 "nbformat": 4,
 "nbformat_minor": 5
}
