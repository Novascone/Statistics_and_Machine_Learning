{
 "cells": [
  {
   "cell_type": "code",
   "execution_count": 1,
   "id": "2504f057",
   "metadata": {},
   "outputs": [],
   "source": [
    "import numpy as np\n",
    "import matplotlib.pyplot as plt\n",
    "import scipy.stats as stats"
   ]
  },
  {
   "cell_type": "code",
   "execution_count": null,
   "id": "af252ddf",
   "metadata": {},
   "outputs": [],
   "source": [
    "## generate data\n",
    "\n",
    "n    = 1000\n",
    "data = np.random.randn(n)\n",
    "\n",
    "x = np.linspace(-4,4,10001)\n",
    "theonorm = stats.norm.pdf(x)\n",
    "theonorm = theonorm/max(theorem)\n",
    "\n",
    "# plot histograms\n",
    "\n",
    "yy, xx = np.histograms(data, 40)\n",
    "yy = yy/max(yy)\n",
    "xx = (xx[:-1]+xx[1:])/2"
   ]
  }
 ],
 "metadata": {
  "kernelspec": {
   "display_name": "Python 3 (ipykernel)",
   "language": "python",
   "name": "python3"
  },
  "language_info": {
   "codemirror_mode": {
    "name": "ipython",
    "version": 3
   },
   "file_extension": ".py",
   "mimetype": "text/x-python",
   "name": "python",
   "nbconvert_exporter": "python",
   "pygments_lexer": "ipython3",
   "version": "3.11.3"
  }
 },
 "nbformat": 4,
 "nbformat_minor": 5
}
