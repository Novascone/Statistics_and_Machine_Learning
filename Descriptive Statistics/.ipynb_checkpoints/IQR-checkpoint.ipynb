{
 "cells": [
  {
   "cell_type": "code",
   "execution_count": 1,
   "id": "ad5a847d",
   "metadata": {},
   "outputs": [],
   "source": [
    "import matplotlib.pyplot as plt\n",
    "import numpy as np\n",
    "import scipy.stats as stats"
   ]
  },
  {
   "cell_type": "code",
   "execution_count": 6,
   "id": "1ea1508e",
   "metadata": {},
   "outputs": [
    {
     "data": {
      "text/plain": [
       "(array([480., 157., 105.,  69.,  44.,  38.,  28.,  24.,  13.,   5.,   7.,\n",
       "          9.,   5.,   2.,   2.,   4.,   3.,   0.,   1.,   0.,   0.,   0.,\n",
       "          2.,   1.,   0.,   0.,   0.,   0.,   0.,   1.]),\n",
       " array([1.56525150e-06, 4.13932613e-01, 8.27863661e-01, 1.24179471e+00,\n",
       "        1.65572576e+00, 2.06965681e+00, 2.48358785e+00, 2.89751890e+00,\n",
       "        3.31144995e+00, 3.72538100e+00, 4.13931205e+00, 4.55324309e+00,\n",
       "        4.96717414e+00, 5.38110519e+00, 5.79503624e+00, 6.20896728e+00,\n",
       "        6.62289833e+00, 7.03682938e+00, 7.45076043e+00, 7.86469148e+00,\n",
       "        8.27862252e+00, 8.69255357e+00, 9.10648462e+00, 9.52041567e+00,\n",
       "        9.93434672e+00, 1.03482778e+01, 1.07622088e+01, 1.11761399e+01,\n",
       "        1.15900709e+01, 1.20040020e+01, 1.24179330e+01]),\n",
       " <BarContainer object of 30 artists>)"
      ]
     },
     "execution_count": 6,
     "metadata": {},
     "output_type": "execute_result"
    },
    {
     "data": {
      "image/png": "[encoded data removed]",
      "text/plain": [
       "<Figure size 640x480 with 1 Axes>"
      ]
     },
     "metadata": {},
     "output_type": "display_data"
    }
   ],
   "source": [
    "## create data\n",
    "\n",
    "n = 1000\n",
    "data = np.random.randn(n)**2\n",
    "\n",
    "plt.hist(data,bins=30)"
   ]
  },
  {
   "cell_type": "code",
   "execution_count": 7,
   "id": "88ccdb6b",
   "metadata": {},
   "outputs": [
    {
     "ename": "NameError",
     "evalue": "name 'iqvals' is not defined",
     "output_type": "error",
     "traceback": [
      "\u001b[0;31m---------------------------------------------------------------------------\u001b[0m",
      "\u001b[0;31mNameError\u001b[0m                                 Traceback (most recent call last)",
      "Cell \u001b[0;32mIn[7], line 12\u001b[0m\n\u001b[1;32m      8\u001b[0m iq_vals \u001b[38;5;241m=\u001b[39m data[[q1,q3]]\n\u001b[1;32m     11\u001b[0m \u001b[38;5;66;03m# IQR is the difference between them\u001b[39;00m\n\u001b[0;32m---> 12\u001b[0m iqrange1 \u001b[38;5;241m=\u001b[39m iq_vals[\u001b[38;5;241m1\u001b[39m] \u001b[38;5;241m-\u001b[39m iqvals[\u001b[38;5;241m0\u001b[39m]\n\u001b[1;32m     14\u001b[0m \u001b[38;5;66;03m# Python's function\u001b[39;00m\n\u001b[1;32m     15\u001b[0m iqrange2 \u001b[38;5;241m=\u001b[39m stats\u001b[38;5;241m.\u001b[39miqr(data)\n",
      "\u001b[0;31mNameError\u001b[0m: name 'iqvals' is not defined"
     ]
    }
   ],
   "source": [
    "dataR = stats.rankdata(data)/n\n",
    "\n",
    "# find the values closest to 25% and 75% of the distributions\n",
    "q1 = np.argmin((dataR-.25)**2)\n",
    "q3 = np.argmin((dataR-.75)**2)\n",
    "\n",
    "# get two values in data\n",
    "iq_vals = data[[q1,q3]]\n",
    "\n",
    "\n",
    "# IQR is the difference between them\n",
    "iqrange1 = iq_vals[1] - iq_vals[0]\n",
    "\n",
    "# Python's function\n",
    "iqrange2 = stats.iqr(data)\n",
    "\n",
    "print(iqrange1, iqrange2)\n",
    "\n"
   ]
  },
  {
   "cell_type": "code",
   "execution_count": null,
   "id": "db5faf80",
   "metadata": {},
   "outputs": [],
   "source": []
  }
 ],
 "metadata": {
  "kernelspec": {
   "display_name": "Python 3 (ipykernel)",
   "language": "python",
   "name": "python3"
  },
  "language_info": {
   "codemirror_mode": {
    "name": "ipython",
    "version": 3
   },
   "file_extension": ".py",
   "mimetype": "text/x-python",
   "name": "python",
   "nbconvert_exporter": "python",
   "pygments_lexer": "ipython3",
   "version": "3.11.3"
  }
 },
 "nbformat": 4,
 "nbformat_minor": 5
}
