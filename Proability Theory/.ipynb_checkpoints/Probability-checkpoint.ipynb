{
 "cells": [
  {
   "cell_type": "code",
   "execution_count": 1,
   "id": "51dfe04f",
   "metadata": {},
   "outputs": [],
   "source": [
    "import numpy as np\n",
    "import matplotlib.pyplot as plt"
   ]
  },
  {
   "cell_type": "code",
   "execution_count": 2,
   "id": "cd08cfa7",
   "metadata": {},
   "outputs": [
    {
     "name": "stdout",
     "output_type": "stream",
     "text": [
      "[10. 20. 40. 30.]\n"
     ]
    }
   ],
   "source": [
    "## basic formula\n",
    "\n",
    "C = np.array([1, 2, 4, 3])\n",
    "\n",
    "# convert to probability (%)\n",
    "prob = 100*C/np.sum(C)\n",
    "print(prob)"
   ]
  },
  {
   "cell_type": "code",
   "execution_count": null,
   "id": "990ecf20",
   "metadata": {},
   "outputs": [],
   "source": [
    "## the example of marbles in a jar\n",
    "\n",
    "# colored marbles \n",
    "blue    = 40 \n",
    "yellow  = 30\n",
    "orange  = 20\n",
    "totalMarbs = blue + yellow + orange\n",
    "\n",
    "# put in a jar\n",
    "jar = np.hstack((1*np.ones(blue),2*np.ones(yellow),3*np.ones(orange)))\n",
    "\n",
    "numDraws = 500\n",
    "drawColors = np.zeros(numDraws)\n",
    "\n",
    "for drawi in range(numDraws):\n",
    "    # generate random integer\n",
    "    randmarble = int(np.random.rand()*len(jar))\n",
    "    \n",
    "    # store the color of the marble\n",
    "    drawColors[drawi] = jar[randmarble]"
   ]
  }
 ],
 "metadata": {
  "kernelspec": {
   "display_name": "Python 3 (ipykernel)",
   "language": "python",
   "name": "python3"
  },
  "language_info": {
   "codemirror_mode": {
    "name": "ipython",
    "version": 3
   },
   "file_extension": ".py",
   "mimetype": "text/x-python",
   "name": "python",
   "nbconvert_exporter": "python",
   "pygments_lexer": "ipython3",
   "version": "3.11.3"
  }
 },
 "nbformat": 4,
 "nbformat_minor": 5
}
