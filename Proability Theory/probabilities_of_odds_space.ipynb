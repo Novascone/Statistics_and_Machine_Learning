{
 "cells": [
  {
   "cell_type": "code",
   "execution_count": 1,
   "id": "5ceb5eeb",
   "metadata": {},
   "outputs": [],
   "source": [
    "import numpy as np"
   ]
  },
  {
   "cell_type": "code",
   "execution_count": 9,
   "id": "5860c6d2",
   "metadata": {},
   "outputs": [
    {
     "name": "stdout",
     "output_type": "stream",
     "text": [
      "[[0. 0. 0. 0. 0. 0. 0. 0. 0. 0.]\n",
      " [0. 0. 0. 0. 0. 0. 0. 0. 0. 0.]\n",
      " [0. 0. 0. 0. 0. 0. 0. 0. 0. 0.]\n",
      " [0. 0. 0. 0. 0. 0. 0. 0. 0. 0.]\n",
      " [0. 0. 0. 0. 0. 0. 0. 0. 0. 0.]\n",
      " [0. 0. 0. 0. 0. 0. 0. 0. 0. 0.]\n",
      " [0. 0. 0. 0. 0. 0. 0. 0. 0. 0.]\n",
      " [0. 0. 0. 0. 0. 0. 0. 0. 0. 0.]\n",
      " [0. 0. 0. 0. 0. 0. 0. 0. 0. 0.]\n",
      " [0. 0. 0. 0. 0. 0. 0. 0. 0. 0.]]\n"
     ]
    }
   ],
   "source": [
    "A = np.zeros((10,10))"
   ]
  },
  {
   "cell_type": "code",
   "execution_count": 14,
   "id": "159ba6fb",
   "metadata": {},
   "outputs": [],
   "source": [
    "for i in range(1, 10):\n",
    "    for j in range(1,10):\n",
    "        A[i][j] = 1/(1+(i/j))"
   ]
  },
  {
   "cell_type": "code",
   "execution_count": 16,
   "id": "9646ad8a",
   "metadata": {},
   "outputs": [
    {
     "name": "stdout",
     "output_type": "stream",
     "text": [
      "[[0.         0.         0.         0.         0.         0.\n",
      "  0.         0.         0.         0.        ]\n",
      " [0.         0.5        0.66666667 0.75       0.8        0.83333333\n",
      "  0.85714286 0.875      0.88888889 0.9       ]\n",
      " [0.         0.33333333 0.5        0.6        0.66666667 0.71428571\n",
      "  0.75       0.77777778 0.8        0.81818182]\n",
      " [0.         0.25       0.4        0.5        0.57142857 0.625\n",
      "  0.66666667 0.7        0.72727273 0.75      ]\n",
      " [0.         0.2        0.33333333 0.42857143 0.5        0.55555556\n",
      "  0.6        0.63636364 0.66666667 0.69230769]\n",
      " [0.         0.16666667 0.28571429 0.375      0.44444444 0.5\n",
      "  0.54545455 0.58333333 0.61538462 0.64285714]\n",
      " [0.         0.14285714 0.25       0.33333333 0.4        0.45454545\n",
      "  0.5        0.53846154 0.57142857 0.6       ]\n",
      " [0.         0.125      0.22222222 0.3        0.36363636 0.41666667\n",
      "  0.46153846 0.5        0.53333333 0.5625    ]\n",
      " [0.         0.11111111 0.2        0.27272727 0.33333333 0.38461538\n",
      "  0.42857143 0.46666667 0.5        0.52941176]\n",
      " [0.         0.1        0.18181818 0.25       0.30769231 0.35714286\n",
      "  0.4        0.4375     0.47058824 0.5       ]]\n"
     ]
    }
   ],
   "source": [
    "print(A)"
   ]
  },
  {
   "cell_type": "code",
   "execution_count": null,
   "id": "de479ba5",
   "metadata": {},
   "outputs": [],
   "source": []
  }
 ],
 "metadata": {
  "kernelspec": {
   "display_name": "Python 3 (ipykernel)",
   "language": "python",
   "name": "python3"
  },
  "language_info": {
   "codemirror_mode": {
    "name": "ipython",
    "version": 3
   },
   "file_extension": ".py",
   "mimetype": "text/x-python",
   "name": "python",
   "nbconvert_exporter": "python",
   "pygments_lexer": "ipython3",
   "version": "3.11.3"
  }
 },
 "nbformat": 4,
 "nbformat_minor": 5
}
